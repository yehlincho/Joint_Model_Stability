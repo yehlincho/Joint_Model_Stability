{
 "cells": [
  {
   "cell_type": "code",
   "execution_count": 1,
   "id": "7423f568-4735-49d7-a1a5-3a2cbe10114d",
   "metadata": {
    "tags": []
   },
   "outputs": [],
   "source": [
    "import os\n",
    "# import colabdesign\n",
    "# from colabdesign.mpnn import mk_mpnn_model, clear_mem\n",
    "# from colabdesign.shared.protein import pdb_to_string\n",
    "os.chdir('/home/gridsan/ylcho/')\n",
    "import os\n",
    "# import colabdesign\n",
    "# from colabdesign.mpnn import mk_mpnn_model, clear_mem\n",
    "# from colabdesign.shared.protein import pdb_to_string\n",
    "os.chdir('/home/gridsan/ylcho/DMSV2/')\n",
    "\n",
    "\n",
    "import numpy as np\n",
    "import matplotlib.pyplot as plt\n",
    "from IPython.display import HTML\n",
    "import pandas as pd\n",
    "import tqdm.notebook\n",
    "import seaborn\n",
    "import re, tempfile\n",
    "# from colabdesign.af.contrib import predictz\n",
    "# from colabdesign.shared.protein import _np_rmsd\n",
    "\n",
    "if \"hhsuite\" not in os.environ['PATH']:\n",
    "    os.environ['PATH'] += \":/home/gridsan/ylcho/DMSV2/\"\n",
    "    \n",
    "import sys\n",
    "# sys.path.append('/home/gridsan/ylcho/DMSV2/source/')\n",
    "\n",
    "# import source.pdbx as pdbx\n",
    "# from pdbx.reader import PdbxReader\n",
    "# from pdbx.reader.PdbxContainers import DataCategory\n",
    "import gzip\n",
    "import numpy as np\n",
    "import torch\n",
    "import os,sys\n",
    "import glob\n",
    "import re\n",
    "from scipy.spatial import KDTree\n",
    "from itertools import combinations,permutations\n",
    "import tempfile\n",
    "import subprocess\n",
    "\n",
    "import torch\n",
    "import pickle\n",
    "import math\n",
    "\n",
    "\n",
    "import numpy as np\n",
    "import matplotlib.pyplot as plt\n",
    "from IPython.display import HTML\n",
    "import tqdm.notebook\n",
    "import seaborn\n",
    "import re, tempfile\n",
    "# from colabdesign.af.contrib import predictz\n",
    "# from colabdesign.shared.protein import _np_rmsd\n",
    "\n",
    "if \"hhsuite\" not in os.environ['PATH']:\n",
    "    os.environ['PATH'] += \":/home/gridsan/ylcho/ProteinMPNN/MembraneMPNN\"\n",
    "    \n",
    "import sys\n",
    "sys.path.append('/home/gridsan/ylcho/ProteinMPNN/source/')\n",
    "\n",
    "# import source.pdbx as pdbx\n",
    "# from pdbx.reader import PdbxReader\n",
    "# from pdbx.reader.PdbxContainers import DataCategory\n",
    "import gzip\n",
    "import numpy as np\n",
    "import torch\n",
    "import os,sys\n",
    "import glob\n",
    "import re\n",
    "from scipy.spatial import KDTree\n",
    "from itertools import combinations,permutations\n",
    "import tempfile\n",
    "import subprocess\n",
    "\n",
    "import torch\n",
    "import pickle\n",
    "import math\n",
    "\n",
    "import pandas as pd"
   ]
  },
  {
   "cell_type": "markdown",
   "id": "cc6274eb-4d63-410d-8e2f-fad3e0c6c388",
   "metadata": {},
   "source": [
    "## 1. ProteinMPNN"
   ]
  },
  {
   "cell_type": "code",
   "execution_count": 8,
   "id": "f7b6e7cc-2e2b-49b3-bbc2-6e01bcbda25e",
   "metadata": {},
   "outputs": [
    {
     "data": {
      "text/plain": [
       "40529"
      ]
     },
     "execution_count": 8,
     "metadata": {},
     "output_type": "execute_result"
    }
   ],
   "source": [
    "len(os.listdir('dataset/af2_predicted'))"
   ]
  },
  {
   "cell_type": "code",
   "execution_count": 9,
   "id": "bd661d33-9161-49b8-b386-c0da3b30d5cb",
   "metadata": {},
   "outputs": [
    {
     "name": "stderr",
     "output_type": "stream",
     "text": [
      "\n",
      "KeyboardInterrupt\n",
      "\n"
     ]
    }
   ],
   "source": [
    "import ast\n",
    "import numpy as np\n",
    "\n",
    "basedir = 'unconditional_MPNN_pssm_v_48_010.txt'\n",
    "loaded_list = []\n",
    "\n",
    "with open(basedir, 'r') as f:\n",
    "    for line in f:\n",
    "        try:\n",
    "            item = ast.literal_eval(line.strip())\n",
    "            loaded_list.append(item)\n",
    "        except (ValueError, SyntaxError):\n",
    "            # Handle the case where the line cannot be evaluated\n",
    "            print(f\"Skipping line: {line}\")\n",
    "            \n",
    "df = pd.DataFrame(loaded_list, columns=['name','sequence', 'pssm', 'unconditional_CE'])\n",
    "df['name'] = df['name'].str.replace('_unrelaxed_model_1.pdb', '')\n",
    "merged_df=pd.merge(merged_df, df[['name', 'unconditional_CE']], on='name', how='left')\n",
    "\n",
    "import ast\n",
    "import numpy as np\n",
    "\n",
    "basedir = 'conditional_MPNN_pssm_v_48_010.txt'\n",
    "loaded_list = []\n",
    "\n",
    "with open(basedir, 'r') as f:\n",
    "    for line in f:\n",
    "        try:\n",
    "            item = ast.literal_eval(line.strip())\n",
    "            loaded_list.append(item)\n",
    "        except (ValueError, SyntaxError):\n",
    "            # Handle the case where the line cannot be evaluated\n",
    "            print(f\"Skipping line: {line}\")\n",
    "            \n",
    "df = pd.DataFrame(loaded_list, columns=['name','sequence', 'pssm', 'conditional_CE'])\n",
    "df['name'] = df['name'].str.replace('_unrelaxed_model_1.pdb', '')\n",
    "merged_df=pd.merge(merged_df, df[['name', 'conditional_CE']], on='name', how='left')"
   ]
  },
  {
   "cell_type": "code",
   "execution_count": 167,
   "id": "fc6eb713-07ba-4198-b03d-54341f6dce69",
   "metadata": {},
   "outputs": [],
   "source": [
    "# merged_df.to_csv('dmsv2_aa_seq_all_4_filtered_combined_CE.csv')"
   ]
  },
  {
   "cell_type": "code",
   "execution_count": null,
   "id": "99844857-a4c0-4f94-9e68-bd9404ec96c1",
   "metadata": {},
   "outputs": [],
   "source": []
  }
 ],
 "metadata": {
  "kernelspec": {
   "display_name": "Python 3 (ipykernel)",
   "language": "python",
   "name": "python3"
  },
  "language_info": {
   "codemirror_mode": {
    "name": "ipython",
    "version": 3
   },
   "file_extension": ".py",
   "mimetype": "text/x-python",
   "name": "python",
   "nbconvert_exporter": "python",
   "pygments_lexer": "ipython3",
   "version": "3.9.16"
  }
 },
 "nbformat": 4,
 "nbformat_minor": 5
}
