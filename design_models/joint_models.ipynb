{
 "cells": [
  {
   "cell_type": "code",
   "execution_count": 11,
   "metadata": {
    "tags": []
   },
   "outputs": [],
   "source": [
    "import os\n",
    "import tensorflow as tf\n",
    "\n",
    "os.environ[\"CUDA_DEVICE_ORDER\"] = \"PCI_BUS_ID\"\n",
    "os.environ[\"CUDA_VISIBLE_DEVICES\"] = \"2\"\n"
   ]
  },
  {
   "cell_type": "code",
   "execution_count": 12,
   "metadata": {},
   "outputs": [],
   "source": [
    "import numpy as np\n",
    "from scipy.special import softmax\n",
    "from utils import *\n",
    "from models import *\n",
    "from to_pdb import *"
   ]
  },
  {
   "cell_type": "code",
   "execution_count": 13,
   "metadata": {
    "tags": []
   },
   "outputs": [
    {
     "name": "stdout",
     "output_type": "stream",
     "text": [
      "mode: single sequence design\n",
      "loading model: xaa\n",
      "loading model: xab\n",
      "loading model: xac\n",
      "loading model: xad\n",
      "loading model: xae\n",
      "loading model: TrMRF\n",
      "The loss function is composed of the following: ['TrMRF', 'pdb']\n",
      "Layer: input_1\n",
      "Layer: tf_op_layer_Shape\n",
      "Layer: tf_op_layer_random_uniform/RandomUniform\n",
      "Layer: tf_op_layer_random_uniform/mul\n",
      "Layer: tf_op_layer_random_uniform\n",
      "Layer: tf_op_layer_add\n",
      "Layer: tf_op_layer_Log\n",
      "Layer: tf_op_layer_Neg\n",
      "Layer: tf_op_layer_add_1\n",
      "Layer: tf_op_layer_Log_1\n",
      "Layer: tf_op_layer_Neg_1\n",
      "Layer: input_6\n",
      "Layer: input_4\n",
      "Layer: tf_op_layer_add_2\n",
      "Layer: tf_op_layer_strided_slice_2\n",
      "Layer: tf_op_layer_strided_slice\n",
      "Layer: tf_op_layer_truediv\n",
      "Layer: tf_op_layer_Softmax_1\n",
      "Layer: tf_op_layer_cond/pred_id\n",
      "Layer: tf_op_layer_Softmax\n",
      "Layer: tf_op_layer_cond/Switch_2\n",
      "Layer: tf_op_layer_cond/Switch_1\n",
      "Layer: tf_op_layer_cond/Merge\n",
      "Layer: input_5\n",
      "Layer: tf_op_layer_Shape_1\n",
      "Layer: tf_op_layer_strided_slice_1\n",
      "Layer: tf_op_layer_ArgMax\n",
      "Layer: tf_op_layer_strided_slice_5\n",
      "Layer: tf_op_layer_cond_1/pred_id\n",
      "Layer: tf_op_layer_one_hot\n",
      "Layer: tf_op_layer_cond_1/Switch_2\n",
      "Layer: tf_op_layer_cond_1/Switch_1\n",
      "Layer: tf_op_layer_cond_1/Merge\n",
      "Layer: tf_op_layer_sub\n",
      "Layer: input_8\n",
      "Layer: tf_op_layer_StopGradient\n",
      "Layer: input_2\n",
      "Layer: tf_op_layer_strided_slice_4\n",
      "Layer: tf_op_layer_add_3\n",
      "Layer: tf_op_layer_PadV2\n",
      "Layer: tf_op_layer_StopGradient_1\n",
      "Layer: model_1\n",
      "Layer: tf_op_layer_einsum/transpose\n",
      "Layer: tf_op_layer_einsum/transpose_1\n",
      "Layer: tf_op_layer_einsum/Shape\n",
      "Layer: tf_op_layer_einsum/Shape_1\n",
      "Layer: tf_op_layer_einsum/strided_slice\n",
      "Layer: tf_op_layer_einsum/strided_slice_1\n",
      "Layer: tf_op_layer_einsum/strided_slice_4\n",
      "Layer: tf_op_layer_einsum/mul\n",
      "Layer: tf_op_layer_einsum/mul_1\n",
      "Layer: tf_op_layer_einsum/strided_slice_2\n",
      "Layer: tf_op_layer_einsum/mul_2\n",
      "Layer: tf_op_layer_einsum/Reshape/shape\n",
      "Layer: tf_op_layer_einsum/Reshape_1/shape\n",
      "Layer: tf_op_layer_einsum/Reshape\n",
      "Layer: tf_op_layer_einsum/Reshape_1\n",
      "Layer: tf_op_layer_einsum/MatMul\n",
      "Layer: tf_op_layer_einsum/Reshape_2/shape\n",
      "Layer: tf_op_layer_Pad\n",
      "Layer: tf_op_layer_einsum/Reshape_2\n",
      "Layer: pssm\n",
      "Layer: tf_op_layer_einsum/transpose_2\n",
      "Layer: tf_op_layer_strided_slice_6\n",
      "Layer: model\n",
      "Layer: tf_op_layer_add_90\n",
      "Layer: concatenate\n",
      "Layer: tf_op_layer_Softmax_2\n",
      "Layer: tf_op_layer_add_92\n",
      "Layer: tf_op_layer_add_91\n",
      "Layer: tf_op_layer_Log_3\n",
      "Layer: tf_op_layer_Log_2\n",
      "Layer: tf_op_layer_mul_1\n",
      "Layer: tf_op_layer_mul\n",
      "Layer: tf_op_layer_Sum_1\n",
      "Layer: tf_op_layer_Sum\n",
      "Layer: tf_op_layer_Neg_3\n",
      "Layer: tf_op_layer_Mean\n",
      "Layer: tf_op_layer_Sum_2\n",
      "Layer: tf_op_layer_Sum_3\n",
      "Layer: tf_op_layer_Neg_2\n",
      "Layer: tf_op_layer_truediv_1\n",
      "Layer: tf_op_layer_stack\n",
      "Layer: input_3\n",
      "Layer: tf_op_layer_mul_2\n",
      "Layer: input_7\n",
      "Layer: lambda_9\n"
     ]
    }
   ],
   "source": [
    "model = mk_design_model(add_pdb=True, \n",
    "                        add_TrMRF=True, \n",
    "                        add_TrROS=True,\n",
    "                        msa_design=False,\n",
    "                        serial=True)\n",
    "                    "
   ]
  },
  {
   "cell_type": "code",
   "execution_count": 5,
   "metadata": {
    "tags": []
   },
   "outputs": [],
   "source": [
    "def chk_id(a,b):\n",
    "  return (np.array(list(a)) == np.array(list(b))).mean()\n",
    "\n",
    "def set_ss(pdb):\n",
    "  out = !~/bin/stride {pdb} | grep ^ASG\n",
    "  C,H,E = 0,0,0\n",
    "  for line in out:\n",
    "    ss = line.split()[5].replace(\"T\",\"C\")\n",
    "    if ss == \"C\": C += 1\n",
    "    if ss == \"H\": H += 1\n",
    "    if ss == \"E\": E += 1\n",
    "  return C,H,E"
   ]
  },
  {
   "cell_type": "code",
   "execution_count": 6,
   "metadata": {
    "tags": []
   },
   "outputs": [],
   "source": [
    "pdb_file = f\"top_pdb/r9_900.pdb\"\n",
    "inputs = prep_input(pdb_file)\n",
    "_feat = inputs[\"feat\"]\n",
    "_seq = np.eye(20)[AA_to_N(inputs[\"seq\"])]"
   ]
  },
  {
   "cell_type": "code",
   "execution_count": 8,
   "metadata": {
    "tags": []
   },
   "outputs": [],
   "source": [
    "design = model.design(inputs={\"pdb\":_feat[None],\n",
    "                            \"I\":_seq[None,None]}, \n",
    "                    opt_iter=100,\n",
    "                    hard=False, hard_switch=[50],\n",
    "                    num=100,\n",
    "                    return_traj=False, verbose=True, seqid=1.0)\n",
    "                    # rm_aa=[4])"
   ]
  },
  {
   "cell_type": "code",
   "execution_count": null,
   "metadata": {
    "tags": []
   },
   "outputs": [],
   "source": [
    "seqs = design[\"I\"][0].argmax(-1)\n",
    "wt_seq = _seq.argmax(-1)\n",
    "idents = (wt_seq == seqs).mean(-1)"
   ]
  },
  {
   "cell_type": "code",
   "execution_count": null,
   "metadata": {
    "tags": []
   },
   "outputs": [],
   "source": [
    "for pdb in os.listdir('top_pdb'):\n",
    "    pdb_file = f\"top_pdb/{pdb}\"\n",
    "\n",
    "    # get pdb features\n",
    "    inputs = prep_input(pdb_file)\n",
    "    _feat = inputs[\"feat\"]\n",
    "    _seq = np.eye(20)[AA_to_N(inputs[\"seq\"])]\n",
    "\n",
    "    design = model.design(inputs={\"pdb\":_feat[None],\n",
    "                                \"I\":_seq[None,None]}, \n",
    "                        opt_iter=50,\n",
    "                        hard=False, hard_switch=[50],\n",
    "                        num=100,\n",
    "                        return_traj=False, verbose=False, seqid=1.0,\n",
    "                        rm_aa=[4])\n",
    "\n",
    "    seqs = design[\"I\"][0].argmax(-1)\n",
    "    wt_seq = _seq.argmax(-1)\n",
    "    idents = (wt_seq == seqs).mean(-1)\n",
    "\n",
    "    NEW_seq = N_to_AA(seqs[idents.argmax()])[0]\n",
    "    print(pdb, NEW_seq, round(chk_id(inputs[\"seq\"][0],NEW_seq),3))\n",
    "    with open(\"results.txt\", \"a\") as file:\n",
    "        file.write(f\"{pdb} {NEW_seq} {round(chk_id(inputs['seq'][0],NEW_seq),3)}\\n\")"
   ]
  },
  {
   "cell_type": "code",
   "execution_count": null,
   "metadata": {},
   "outputs": [],
   "source": []
  },
  {
   "cell_type": "code",
   "execution_count": null,
   "metadata": {},
   "outputs": [],
   "source": []
  }
 ],
 "metadata": {
  "kernelspec": {
   "display_name": "joint_design1",
   "language": "python",
   "name": "python3"
  },
  "language_info": {
   "codemirror_mode": {
    "name": "ipython",
    "version": 3
   },
   "file_extension": ".py",
   "mimetype": "text/x-python",
   "name": "python",
   "nbconvert_exporter": "python",
   "pygments_lexer": "ipython3",
   "version": "3.7.12"
  }
 },
 "nbformat": 4,
 "nbformat_minor": 4
}
