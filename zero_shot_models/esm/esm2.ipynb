{
 "cells": [
  {
   "cell_type": "code",
   "execution_count": 1,
   "metadata": {},
   "outputs": [],
   "source": [
    "\"\"\"Source:\n",
    "https://www.kaggle.com/code/daehunbae/esm-2-pseudo-perplexity-ranking\n",
    "\"\"\"\n",
    "\n",
    "import os\n",
    "os.environ[\"CUDA_DEVICE_ORDER\"] = \"PCI_BUS_ID\"\n",
    "os.environ[\"CUDA_VISIBLE_DEVICES\"] = \"0\"\n",
    "\n",
    "import pandas as pd\n",
    "import numpy as np\n",
    "import transformers\n",
    "# from transformers import EsmTokenizer, EsmForMaskedLM\n",
    "from transformers import ESMForMaskedLM, ESMTokenizer\n",
    "import torch\n"
   ]
  },
  {
   "cell_type": "code",
   "execution_count": 2,
   "metadata": {},
   "outputs": [],
   "source": [
    "df = pd.read_csv('../../all_4_results.csv')\n",
    "df['ID'] = df['name'].apply(lambda x: '_'.join(x.split('_')[:2]))"
   ]
  },
  {
   "cell_type": "code",
   "execution_count": null,
   "metadata": {},
   "outputs": [
    {
     "name": "stderr",
     "output_type": "stream",
     "text": [
      "The tokenizer class you load from this checkpoint is not the same type as the class this function is called from. It may result in unexpected tokenization. \n",
      "The tokenizer class you load from this checkpoint is 'EsmTokenizer'. \n",
      "The class this function is called from is 'ESMTokenizer'.\n",
      "Some weights of the model checkpoint at facebook/esm2_t33_650M_UR50D were not used when initializing ESMForMaskedLM: ['esm.encoder.layer.1.attention.self.rotary_embeddings.inv_freq', 'esm.encoder.layer.8.attention.self.rotary_embeddings.inv_freq', 'esm.encoder.layer.24.attention.self.rotary_embeddings.inv_freq', 'esm.encoder.layer.19.attention.self.rotary_embeddings.inv_freq', 'esm.encoder.layer.21.attention.self.rotary_embeddings.inv_freq', 'esm.encoder.layer.11.attention.self.rotary_embeddings.inv_freq', 'esm.encoder.layer.2.attention.self.rotary_embeddings.inv_freq', 'esm.encoder.layer.7.attention.self.rotary_embeddings.inv_freq', 'esm.encoder.layer.13.attention.self.rotary_embeddings.inv_freq', 'esm.encoder.layer.26.attention.self.rotary_embeddings.inv_freq', 'esm.encoder.layer.17.attention.self.rotary_embeddings.inv_freq', 'esm.encoder.layer.6.attention.self.rotary_embeddings.inv_freq', 'esm.encoder.layer.30.attention.self.rotary_embeddings.inv_freq', 'esm.encoder.layer.12.attention.self.rotary_embeddings.inv_freq', 'esm.contact_head.regression.bias', 'esm.encoder.layer.28.attention.self.rotary_embeddings.inv_freq', 'esm.encoder.layer.0.attention.self.rotary_embeddings.inv_freq', 'esm.encoder.layer.31.attention.self.rotary_embeddings.inv_freq', 'esm.encoder.layer.4.attention.self.rotary_embeddings.inv_freq', 'esm.encoder.layer.14.attention.self.rotary_embeddings.inv_freq', 'esm.encoder.layer.16.attention.self.rotary_embeddings.inv_freq', 'esm.encoder.layer.18.attention.self.rotary_embeddings.inv_freq', 'esm.encoder.layer.23.attention.self.rotary_embeddings.inv_freq', 'esm.encoder.layer.9.attention.self.rotary_embeddings.inv_freq', 'esm.encoder.layer.25.attention.self.rotary_embeddings.inv_freq', 'esm.contact_head.regression.weight', 'esm.encoder.layer.32.attention.self.rotary_embeddings.inv_freq', 'esm.encoder.layer.5.attention.self.rotary_embeddings.inv_freq', 'esm.encoder.layer.22.attention.self.rotary_embeddings.inv_freq', 'esm.encoder.layer.27.attention.self.rotary_embeddings.inv_freq', 'esm.encoder.layer.10.attention.self.rotary_embeddings.inv_freq', 'esm.encoder.layer.29.attention.self.rotary_embeddings.inv_freq', 'esm.encoder.layer.3.attention.self.rotary_embeddings.inv_freq', 'esm.encoder.layer.20.attention.self.rotary_embeddings.inv_freq', 'esm.encoder.layer.15.attention.self.rotary_embeddings.inv_freq']\n",
      "- This IS expected if you are initializing ESMForMaskedLM from the checkpoint of a model trained on another task or with another architecture (e.g. initializing a BertForSequenceClassification model from a BertForPreTraining model).\n",
      "- This IS NOT expected if you are initializing ESMForMaskedLM from the checkpoint of a model that you expect to be exactly identical (initializing a BertForSequenceClassification model from a BertForSequenceClassification model).\n",
      "Some weights of ESMForMaskedLM were not initialized from the model checkpoint at facebook/esm2_t33_650M_UR50D and are newly initialized: ['esm.embeddings.LayerNorm.bias', 'esm.embeddings.token_type_embeddings.weight', 'esm.embeddings.LayerNorm.weight']\n",
      "You should probably TRAIN this model on a down-stream task to be able to use it for predictions and inference.\n"
     ]
    },
    {
     "name": "stdout",
     "output_type": "stream",
     "text": [
      "24.18810807890835\n",
      "19.009342207133137\n",
      "37.48652277940098\n",
      "22.388505672304106\n",
      "18.727747837636116\n",
      "29.46407010193305\n",
      "42.21633155663543\n",
      "19.744756912578193\n"
     ]
    }
   ],
   "source": [
    "\n",
    "def score(model, tokenizer, sentence):\n",
    "    tensor_input = tokenizer.encode(sentence, return_tensors='pt')\n",
    "    repeat_input = tensor_input.repeat(tensor_input.size(-1)-2, 1)\n",
    "    \n",
    "    # mask one by one except [CLS] and [SEP]\n",
    "    mask = torch.ones(tensor_input.size(-1) -1).diag(1)[:-2]\n",
    "    masked_input = repeat_input.masked_fill(mask == 1, tokenizer.mask_token_id)\n",
    "    \n",
    "    labels = repeat_input.masked_fill(masked_input != tokenizer.mask_token_id, -100)\n",
    "    with torch.no_grad():\n",
    "        loss = model(masked_input.to(device), labels=labels.to(device)).loss\n",
    "    return np.exp(loss.item())\n",
    "\n",
    "\n",
    "device = torch.device('cuda' if torch.cuda.is_available() else 'cpu')\n",
    "os.chdir('/home/jupyter-yehlin/DMSV2/dataset_final')\n",
    "\n",
    "tokenizer = ESMTokenizer.from_pretrained(\"facebook/esm2_t33_650M_UR50D\")\n",
    "model = ESMForMaskedLM.from_pretrained(\"facebook/esm2_t33_650M_UR50D\").to(device)\n",
    "new_df = pd.DataFrame(['esm_pp'])\n",
    "processed_names = set()\n",
    "\n",
    "for index, row in df.iterrows():\n",
    "    name = row['name']\n",
    "    if name not in processed_names:\n",
    "        score_val = score(model=model, tokenizer=tokenizer, sentence=row['sequence'])\n",
    "        row['esm_pp'] = score_val\n",
    "        print(row['esm_pp'])\n",
    "        new_df = new_df.append(row, ignore_index=True)\n",
    "        \n",
    "new_df.to_csv('dmsv2_aa_seq_esm.csv', index=False)"
   ]
  }
 ],
 "metadata": {
  "kernelspec": {
   "display_name": "joint_design",
   "language": "python",
   "name": "python3"
  },
  "language_info": {
   "codemirror_mode": {
    "name": "ipython",
    "version": 3
   },
   "file_extension": ".py",
   "mimetype": "text/x-python",
   "name": "python",
   "nbconvert_exporter": "python",
   "pygments_lexer": "ipython3",
   "version": "3.7.12"
  }
 },
 "nbformat": 4,
 "nbformat_minor": 2
}
